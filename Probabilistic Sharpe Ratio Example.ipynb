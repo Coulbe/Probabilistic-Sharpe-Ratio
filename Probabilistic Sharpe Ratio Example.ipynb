{
 "cells": [
  {
   "cell_type": "code",
   "execution_count": 1,
   "metadata": {},
   "outputs": [],
   "source": [
    "%load_ext autoreload\n",
    "%autoreload 2"
   ]
  },
  {
   "cell_type": "code",
   "execution_count": 2,
   "metadata": {},
   "outputs": [],
   "source": [
    "import numpy as np\n",
    "import pandas as pd\n",
    "import seaborn as sns\n",
    "import matplotlib.pyplot as plt\n",
    "\n",
    "from scipy.stats import skewnorm, norm\n",
    "\n",
    "import yfinance as yf\n",
    "\n",
    "from utils import sharpe_ratio, annualized_sharpe_ratio, estimated_sr_std, probabilistic_sharpe_ratio, skew_to_alpha, moments"
   ]
  },
  {
   "cell_type": "code",
   "execution_count": 278,
   "metadata": {},
   "outputs": [],
   "source": [
    "np.random.seed(0)"
   ]
  },
  {
   "cell_type": "markdown",
   "metadata": {},
   "source": [
    "## Strategy 1 - *Simulate a distribution of returns with negative skewness*"
   ]
  },
  {
   "cell_type": "code",
   "execution_count": null,
   "metadata": {},
   "outputs": [],
   "source": [
    "MEAN_RETURNS = 0.01\n",
    "STD_RETURNS  = 0.01\n",
    "SKEW_RETURNS = -0.99  # must be between [-0.99, 0.99]\n",
    "\n",
    "alpha = skew_to_alpha(SKEW_RETURNS)\n",
    "\n",
    "dist_st1 = skewnorm(loc=MEAN_RETURNS, scale=STD_RETURNS, a=alpha)\n",
    "\n",
    "# NOTE: scipy.skewnorm can not mantain the mean and std of the distribution while changing the skewness\n",
    "true_mean = dist_st1.stats('m').item()\n",
    "true_std  = np.sqrt(dist_st1.stats('v').item())"
   ]
  },
  {
   "cell_type": "markdown",
   "metadata": {},
   "source": [
    "Generates random returns and check their moments statistic \n",
    "(in a large sample the *skew* should be equal to `skew_returns`, **the other moments are not guaranteed to acommplish our initial conditions**)"
   ]
  },
  {
   "cell_type": "code",
   "execution_count": 280,
   "metadata": {},
   "outputs": [],
   "source": [
    "SIZE = 50"
   ]
  },
  {
   "cell_type": "code",
   "execution_count": null,
   "metadata": {},
   "outputs": [],
   "source": [
    "SEED_ST1 = 44  # 5 39  44(13479)\n",
    "\n",
    "returns_st1 = dist_st1.rvs(size=SIZE, random_state=SEED_ST1)\n",
    "\n",
    "moments_st1 = moments(returns_st1)\n",
    "print(moments_st1)"
   ]
  },
  {
   "cell_type": "markdown",
   "metadata": {},
   "source": [
    "Calculate their estimated Sharpe ratio (SR^). *It is \"estimated\" because it use the historical returns as a prediction of the future returns.*"
   ]
  },
  {
   "cell_type": "code",
   "execution_count": null,
   "metadata": {},
   "outputs": [],
   "source": [
    "sr_st1 = sharpe_ratio(returns_st1)\n",
    "print('SR st1 dist.:', sr_st1)"
   ]
  },
  {
   "cell_type": "code",
   "execution_count": null,
   "metadata": {},
   "outputs": [],
   "source": [
    "sr_ann_st1 = annualized_sharpe_ratio(returns_st1)\n",
    "print('SR Annual. st1 dist.:', round(sr_ann_st1, 2))"
   ]
  },
  {
   "cell_type": "markdown",
   "metadata": {},
   "source": [
    "## Strategy 2 - *Simulate a normal distribution of returns with better `mean` and same `std` as the strategy 1*"
   ]
  },
  {
   "cell_type": "markdown",
   "metadata": {},
   "source": [
    "By definition the SR, in a big data sample, of this strategy (this returns distribution) must be greater than the SR of Strategy 1...but with a few data?"
   ]
  },
  {
   "cell_type": "code",
   "execution_count": null,
   "metadata": {},
   "outputs": [],
   "source": [
    "EXTRA_EDGE = 0.0015\n",
    "\n",
    "dist_st2 = norm(loc=true_mean+EXTRA_EDGE, scale=true_std)"
   ]
  },
  {
   "cell_type": "markdown",
   "metadata": {},
   "source": [
    "Generates random returns and check their moments statistic (in a large sample the *mean* and *std* should be equal to the `moments_st1`, and the *skew* should be 0 and *kurtosis* 3)"
   ]
  },
  {
   "cell_type": "code",
   "execution_count": null,
   "metadata": {},
   "outputs": [],
   "source": [
    "SEED_ST2 = 34430  # 1003 4223 4968 8039 11304(44)30481  34430\n",
    "\n",
    "returns_st2 = dist_st2.rvs(size=SIZE, random_state=SEED_ST2)\n",
    "\n",
    "moments_st2 = moments(returns_st2)\n",
    "print(moments_st2)"
   ]
  },
  {
   "cell_type": "code",
   "execution_count": null,
   "metadata": {},
   "outputs": [],
   "source": [
    "sr_st2 = sharpe_ratio(returns_st2)\n",
    "print('SR normal dist.:', sr_st2)"
   ]
  },
  {
   "cell_type": "code",
   "execution_count": null,
   "metadata": {},
   "outputs": [],
   "source": [
    "sr_ann_st2 = annualized_sharpe_ratio(returns_st2)\n",
    "print('SR Annual. normal dist.:', round(sr_ann_st2, 2))"
   ]
  },
  {
   "cell_type": "markdown",
   "metadata": {},
   "source": [
    "> Ooops, it seems that the Strategy 2 is worst than the Strategy 1... sure?"
   ]
  },
  {
   "cell_type": "markdown",
   "metadata": {},
   "source": [
    "## Probabilistic Sharep Ratio (PSR)\n",
    "\n",
    "At this point, imagine that you want to invest your money in one of these two differenet investing strategies, so ***which one will you choose?***\n",
    "\n",
    "**Probably you will choose the first one**, because have an annualized sharpe ratio of 3.91 and the second strategy 3.74.\n",
    "\n",
    "### But, is this a good decision?\n",
    "\n",
    "Let's see how much confidence we can have with each SR estimated. We will calculate the probability that the TRUE SR, SR*, (not the estimated SR^) is above 0, so how confidence can we be that there is TRU skill/alpha behind each strategy."
   ]
  },
  {
   "cell_type": "code",
   "execution_count": 249,
   "metadata": {},
   "outputs": [],
   "source": [
    "SR_BENCHMARK = 0  # SR*"
   ]
  },
  {
   "cell_type": "code",
   "execution_count": null,
   "metadata": {},
   "outputs": [],
   "source": [
    "psr_st1 = probabilistic_sharpe_ratio(returns_st1, sr_benchmark=SR_BENCHMARK)\n",
    "print('PSR skew_neg:', psr_st1)"
   ]
  },
  {
   "cell_type": "code",
   "execution_count": null,
   "metadata": {},
   "outputs": [],
   "source": [
    "psr_st2 = probabilistic_sharpe_ratio(returns_st2, sr_benchmark=SR_BENCHMARK)\n",
    "print('PSR normal:', psr_st2)"
   ]
  },
  {
   "cell_type": "markdown",
   "metadata": {},
   "source": [
    "> As you can see the Probabilistic Sharpe Ratio (PSR) says that despite of the lower SR^ of the second strategy, this strategy 2 have more chances that in the future its returns will have a TRUE SR greater than 0.  \n",
    "**We can say with a 95.66% confidence that the strategy 2 it's a winner strategy, but we \"only\" have a certainty of 92.89% that the strategy 1 can generate *alpha* too.**"
   ]
  },
  {
   "cell_type": "markdown",
   "metadata": {},
   "source": [
    "Plotting the returns distribution, we can confirm that strategy 1 returns have a big negative skewness, and this makes bigger the stdDev of its SR^ estimates, so we have less certainty on our estimation (lower PSR)."
   ]
  },
  {
   "cell_type": "code",
   "execution_count": null,
   "metadata": {},
   "outputs": [],
   "source": [
    "sns.distplot(pd.Series(returns_st1), hist=True, kde=True, color='red',  bins=SIZE//2).set_title('Strategy 1 returns distribution')"
   ]
  },
  {
   "cell_type": "code",
   "execution_count": null,
   "metadata": {},
   "outputs": [],
   "source": [
    "sns.distplot(pd.Series(returns_st2), hist=True, kde=True, color='green',  bins=SIZE//2).set_title('Strategy 2 returns distribution')"
   ]
  },
  {
   "cell_type": "code",
   "execution_count": null,
   "metadata": {},
   "outputs": [],
   "source": [
    "estimated_sr_std_st1 = estimated_sr_std(returns_st1)\n",
    "estimated_sr_std_st2 = estimated_sr_std(returns_st2)\n",
    "\n",
    "print('The estimated SR^ of strategy 1 have a stdDev of: ', estimated_sr_std_st1)\n",
    "print('The estimated SR^ of strategy 2 have a stdDev of: ', estimated_sr_std_st2)"
   ]
  },
  {
   "cell_type": "markdown",
   "metadata": {},
   "source": [
    "## Out-of-sample checks\n",
    "\n",
    "**Now we will check if our decision of investing in strategy 2 instead of investing in the strategy 1 (that had a better SR), was a good or bad decision.**\n",
    "\n",
    "For that we will generate extra, and bigger, samples of each distribution and chechk wich strategy have a better SR.\n",
    "> Incresing the number of returns/samples for calcualting the SR^ makes the stdDev of this estimation drop drastically."
   ]
  },
  {
   "cell_type": "code",
   "execution_count": 257,
   "metadata": {},
   "outputs": [],
   "source": [
    "OOS_SIZE = 10000000"
   ]
  },
  {
   "cell_type": "code",
   "execution_count": null,
   "metadata": {},
   "outputs": [],
   "source": [
    "oos_returns_st1 = dist_st1.rvs(size=OOS_SIZE)\n",
    "\n",
    "true_moments_st1 = moments(oos_returns_st1)\n",
    "print(true_moments_st1)"
   ]
  },
  {
   "cell_type": "code",
   "execution_count": null,
   "metadata": {},
   "outputs": [],
   "source": [
    "true_sr_ann_st1 = annualized_sharpe_ratio(oos_returns_st1)\n",
    "print('TRUE SR Annual. Strategy 1 (skew_neg dist.):', round(true_sr_ann_st1, 2))"
   ]
  },
  {
   "cell_type": "code",
   "execution_count": null,
   "metadata": {},
   "outputs": [],
   "source": [
    "oos_returns_st2 = dist_st2.rvs(size=OOS_SIZE)\n",
    "\n",
    "true_moments_st2 = moments(oos_returns_st2)\n",
    "print(true_moments_st2)"
   ]
  },
  {
   "cell_type": "code",
   "execution_count": null,
   "metadata": {},
   "outputs": [],
   "source": [
    "true_sr_ann_st2 = annualized_sharpe_ratio(oos_returns_st2)\n",
    "print('TRUE SR Annual. Strategy 2 (skew_neg dist.):', round(true_sr_ann_st2, 2))"
   ]
  },
  {
   "cell_type": "markdown",
   "metadata": {},
   "source": [
    "## Conclusions\n",
    "#### We can see that in the long term the Strategy 2 is much better than the Strategy 1. Its TRUE SR is around 9.46 and the TRUE SR of Strategy 1 is around 5.43. \n",
    "#### This is due to the `EXTRA_EDGE` we added tothe returns distributions of the Strategy 2. \n",
    "#### So, despite of the lower SR^ in the small sample, we were able to choose the best Strategy using the Probabilistic Sharpe Ratio (PSR). \n",
    "In 3 years our money will have grown x3 times more (aprox.) than if we had invested in the Strategy 1!"
   ]
  },
  {
   "cell_type": "code",
   "execution_count": null,
   "metadata": {},
   "outputs": [],
   "source": [
    "pd.DataFrame({'Strategy 1': pd.Series(oos_returns_st1).add(1).cumprod().sub(1).iloc[:262*3],\n",
    "              'Strategy 2': pd.Series(oos_returns_st2).add(1).cumprod().sub(1).iloc[:262*3]}).plot()"
   ]
  },
  {
   "cell_type": "code",
   "execution_count": null,
   "metadata": {},
   "outputs": [],
   "source": []
  }
 ],
 "metadata": {
  "jupytext": {
   "formats": "ipynb,py:light"
  },
  "kernelspec": {
   "display_name": "Python 3",
   "language": "python",
   "name": "python3"
  },
  "language_info": {
   "codemirror_mode": {
    "name": "ipython",
    "version": 3
   },
   "file_extension": ".py",
   "mimetype": "text/x-python",
   "name": "python",
   "nbconvert_exporter": "python",
   "pygments_lexer": "ipython3",
   "version": "3.6.9"
  }
 },
 "nbformat": 4,
 "nbformat_minor": 4
}
