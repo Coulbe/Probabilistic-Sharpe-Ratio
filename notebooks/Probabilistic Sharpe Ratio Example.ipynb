{
 "cells": [
  {
   "cell_type": "code",
   "execution_count": 4,
   "metadata": {},
   "outputs": [],
   "source": [
    "%load_ext autoreload\n",
    "%autoreload 2"
   ]
  },
  {
   "cell_type": "code",
   "execution_count": 5,
   "metadata": {},
   "outputs": [],
   "source": [
    "import os\n",
    "import sys\n",
    "module_path = os.path.abspath(os.path.join('..'))\n",
    "if module_path not in sys.path:\n",
    "    sys.path.append(module_path)"
   ]
  },
  {
   "cell_type": "code",
   "execution_count": 6,
   "metadata": {},
   "outputs": [],
   "source": [
    "import numpy as np\n",
    "import pandas as pd\n",
    "import seaborn as sns\n",
    "import matplotlib.pyplot as plt\n",
    "\n",
    "from scipy.stats import skewnorm, norm\n",
    "\n",
    "from src.utils import skew_to_alpha, moments\n",
    "from src.sharpe_ratio_stats import estimated_sharpe_ratio, ann_estimated_sharpe_ratio, estimated_sharpe_ratio_stdev, probabilistic_sharpe_ratio"
   ]
  },
  {
   "cell_type": "code",
   "execution_count": 7,
   "metadata": {},
   "outputs": [],
   "source": [
    "np.random.seed(0)"
   ]
  },
  {
   "cell_type": "markdown",
   "metadata": {},
   "source": [
    "## Strategy 1 - *Simulate a distribution of returns with negative skewness*"
   ]
  },
  {
   "cell_type": "code",
   "execution_count": 8,
   "metadata": {},
   "outputs": [],
   "source": [
    "MEAN_RETURNS = 0.01\n",
    "STD_RETURNS  = 0.01\n",
    "SKEW_RETURNS = -0.99  # must be between [-0.99, 0.99]\n",
    "\n",
    "alpha = skew_to_alpha(SKEW_RETURNS)\n",
    "\n",
    "dist_st1 = skewnorm(loc=MEAN_RETURNS, scale=STD_RETURNS, a=alpha)\n",
    "\n",
    "# NOTE: scipy.skewnorm can not mantain the mean and std of the distribution while changing the skewness\n",
    "true_mean = dist_st1.stats('m').item()\n",
    "true_std  = np.sqrt(dist_st1.stats('v').item())"
   ]
  },
  {
   "cell_type": "markdown",
   "metadata": {},
   "source": [
    "Generates random **weekly returns** and check their moments statistic \n",
    "(in a large sample the *skew* should be equal to `skew_returns`, **the other moments are not guaranteed to acommplish our initial conditions**)"
   ]
  },
  {
   "cell_type": "code",
   "execution_count": 9,
   "metadata": {},
   "outputs": [],
   "source": [
    "SIZE = 52  # 1 year = 52 weeks"
   ]
  },
  {
   "cell_type": "code",
   "execution_count": 10,
   "metadata": {},
   "outputs": [
    {
     "name": "stdout",
     "output_type": "stream",
     "text": [
      "mean    0.001447\n",
      "std     0.006394\n",
      "skew   -0.778757\n",
      "kurt    2.873831\n",
      "dtype: float64\n"
     ]
    }
   ],
   "source": [
    "SEED_ST1 = 1131\n",
    "\n",
    "returns_st1 = dist_st1.rvs(size=SIZE, random_state=SEED_ST1)\n",
    "\n",
    "moments_st1 = moments(returns_st1)\n",
    "print(moments_st1)"
   ]
  },
  {
   "cell_type": "markdown",
   "metadata": {},
   "source": [
    "Calculate their estimated Sharpe ratio (SR^). *It is \"estimated\" because it use the historical returns as a prediction of the future returns.*"
   ]
  },
  {
   "cell_type": "code",
   "execution_count": 11,
   "metadata": {},
   "outputs": [
    {
     "name": "stdout",
     "output_type": "stream",
     "text": [
      "SR st1 dist.: 0.2262573932753415\n"
     ]
    }
   ],
   "source": [
    "sr_st1 = estimated_sharpe_ratio(returns_st1)\n",
    "print('SR st1 dist.:', sr_st1)"
   ]
  },
  {
   "cell_type": "code",
   "execution_count": 12,
   "metadata": {},
   "outputs": [
    {
     "name": "stdout",
     "output_type": "stream",
     "text": [
      "SR Annual. st1 dist.: 1.63\n"
     ]
    }
   ],
   "source": [
    "sr_ann_st1 = ann_estimated_sharpe_ratio(returns_st1, periods=52)\n",
    "print('SR Annual. st1 dist.:', round(sr_ann_st1, 2))"
   ]
  },
  {
   "cell_type": "markdown",
   "metadata": {},
   "source": [
    "## Strategy 2 - *Simulate a normal distribution of returns with better `mean` and same `std` as the strategy 1*"
   ]
  },
  {
   "cell_type": "markdown",
   "metadata": {},
   "source": [
    "By definition the SR, in a big data sample, of this strategy (this returns distribution) must be greater than the SR of Strategy 1...but with a few data?"
   ]
  },
  {
   "cell_type": "code",
   "execution_count": 13,
   "metadata": {},
   "outputs": [],
   "source": [
    "EXTRA_EDGE = 0.0012\n",
    "\n",
    "dist_st2 = norm(loc=true_mean+EXTRA_EDGE, scale=true_std)"
   ]
  },
  {
   "cell_type": "markdown",
   "metadata": {},
   "source": [
    "Generates random **weekly returns** and check their moments statistic (in a large sample the *mean* and *std* should be equal to the `moments_st1`, and the *skew* should be 0 and *kurtosis* 3)"
   ]
  },
  {
   "cell_type": "code",
   "execution_count": 14,
   "metadata": {},
   "outputs": [
    {
     "name": "stdout",
     "output_type": "stream",
     "text": [
      "mean    0.001362\n",
      "std     0.006334\n",
      "skew    0.951880\n",
      "kurt    5.921637\n",
      "dtype: float64\n"
     ]
    }
   ],
   "source": [
    "SEED_ST2 = 9563\n",
    "\n",
    "returns_st2 = dist_st2.rvs(size=SIZE, random_state=SEED_ST2)\n",
    "\n",
    "moments_st2 = moments(returns_st2)\n",
    "print(moments_st2)"
   ]
  },
  {
   "cell_type": "code",
   "execution_count": 15,
   "metadata": {},
   "outputs": [
    {
     "name": "stdout",
     "output_type": "stream",
     "text": [
      "SR st2 dist.: 0.2150862116259185\n"
     ]
    }
   ],
   "source": [
    "sr_st2 = estimated_sharpe_ratio(returns_st2)\n",
    "print('SR st2 dist.:', sr_st2)"
   ]
  },
  {
   "cell_type": "code",
   "execution_count": 16,
   "metadata": {},
   "outputs": [
    {
     "name": "stdout",
     "output_type": "stream",
     "text": [
      "SR Annual. st2 dist.: 1.55\n"
     ]
    }
   ],
   "source": [
    "sr_ann_st2 = ann_estimated_sharpe_ratio(returns_st2, periods=52)\n",
    "print('SR Annual. st2 dist.:', round(sr_ann_st2, 2))"
   ]
  },
  {
   "cell_type": "markdown",
   "metadata": {},
   "source": [
    "> Ooops, it seems that the Strategy 2 is worst than the Strategy 1... sure?"
   ]
  },
  {
   "cell_type": "markdown",
   "metadata": {},
   "source": [
    "## Probabilistic Sharep Ratio (PSR)\n",
    "\n",
    "At this point, imagine that you want to invest your money in one of these two differenet investing strategies, so ***which one will you choose?***\n",
    "\n",
    "**Probably you will choose the first one**, because have an annualized sharpe ratio of 1.63 and the second strategy of 1.55.\n",
    "\n",
    "### But, is this a good decision?\n",
    "\n",
    "Let's see how much confidence we can have with each SR estimated. We will calculate the probability that the TRUE SR, SR*, (not the estimated SR^) is above 0, so how confidence can we be that there is TRU skill/alpha behind each strategy."
   ]
  },
  {
   "cell_type": "code",
   "execution_count": 17,
   "metadata": {},
   "outputs": [],
   "source": [
    "SR_BENCHMARK = 0  # SR*"
   ]
  },
  {
   "cell_type": "code",
   "execution_count": 18,
   "metadata": {},
   "outputs": [
    {
     "name": "stdout",
     "output_type": "stream",
     "text": [
      "PSR st1: 0.929881161824999\n"
     ]
    }
   ],
   "source": [
    "psr_st1 = probabilistic_sharpe_ratio(returns_st1, sr_benchmark=SR_BENCHMARK)\n",
    "print('PSR st1:', psr_st1)"
   ]
  },
  {
   "cell_type": "code",
   "execution_count": 19,
   "metadata": {},
   "outputs": [
    {
     "name": "stdout",
     "output_type": "stream",
     "text": [
      "PSR st2: 0.9519351296752798\n"
     ]
    }
   ],
   "source": [
    "psr_st2 = probabilistic_sharpe_ratio(returns_st2, sr_benchmark=SR_BENCHMARK)\n",
    "print('PSR st2:', psr_st2)"
   ]
  },
  {
   "cell_type": "markdown",
   "metadata": {},
   "source": [
    "> As you can see the Probabilistic Sharpe Ratio (PSR) says that despite of the lower SR^ of the second strategy, this strategy 2 have more chances that in the future its returns will have a TRUE SR greater than 0.  \n",
    "**We can say with a 95.19% confidence that the strategy 2 it's a winner strategy, but we \"only\" have a certainty of 92.98% that the strategy 1 can generate *alpha* too.**"
   ]
  },
  {
   "cell_type": "markdown",
   "metadata": {},
   "source": [
    "Plotting the returns distribution, we can confirm that strategy 1 returns have a big negative skewness, and this makes bigger the stdDev of its SR^ estimates, so we have less certainty on our estimation (lower PSR)."
   ]
  },
  {
   "cell_type": "code",
   "execution_count": 20,
   "metadata": {},
   "outputs": [
    {
     "data": {
      "text/plain": [
       "Text(0.5, 1.0, 'Strategy 1 returns distribution')"
      ]
     },
     "execution_count": 20,
     "metadata": {},
     "output_type": "execute_result"
    },
    {
     "data": {
      "image/png": "[encoded data removed]",
      "text/plain": [
       "<Figure size 432x288 with 1 Axes>"
      ]
     },
     "metadata": {
      "needs_background": "light"
     },
     "output_type": "display_data"
    }
   ],
   "source": [
    "sns.distplot(pd.Series(returns_st1), hist=True, kde=True, color='red',  bins=SIZE//2).set_title('Strategy 1 returns distribution')"
   ]
  },
  {
   "cell_type": "code",
   "execution_count": 21,
   "metadata": {},
   "outputs": [
    {
     "data": {
      "text/plain": [
       "Text(0.5, 1.0, 'Strategy 2 returns distribution')"
      ]
     },
     "execution_count": 21,
     "metadata": {},
     "output_type": "execute_result"
    },
    {
     "data": {
      "image/png": "[encoded data removed]",
      "text/plain": [
       "<Figure size 432x288 with 1 Axes>"
      ]
     },
     "metadata": {
      "needs_background": "light"
     },
     "output_type": "display_data"
    }
   ],
   "source": [
    "sns.distplot(pd.Series(returns_st2), hist=True, kde=True, color='green',  bins=SIZE//2).set_title('Strategy 2 returns distribution')"
   ]
  },
  {
   "cell_type": "code",
   "execution_count": 22,
   "metadata": {},
   "outputs": [
    {
     "name": "stdout",
     "output_type": "stream",
     "text": [
      "The estimated SR^ of strategy 1 have a stdDev of:  0.15340456477967432\n",
      "The estimated SR^ of strategy 2 have a stdDev of:  0.12926526953817916\n"
     ]
    }
   ],
   "source": [
    "estimated_sr_std_st1 = estimated_sharpe_ratio_stdev(returns_st1)\n",
    "estimated_sr_std_st2 = estimated_sharpe_ratio_stdev(returns_st2)\n",
    "\n",
    "print('The estimated SR^ of strategy 1 have a stdDev of: ', estimated_sr_std_st1)\n",
    "print('The estimated SR^ of strategy 2 have a stdDev of: ', estimated_sr_std_st2)"
   ]
  },
  {
   "cell_type": "markdown",
   "metadata": {},
   "source": [
    "## Out-of-sample checks\n",
    "\n",
    "**Now we will check if our decision of investing in strategy 2 instead of investing in the strategy 1 (that had a better SR), was a good or bad decision.**\n",
    "\n",
    "For that we will generate extra, and bigger, samples of each distribution and chechk wich strategy have a better SR.\n",
    "> Incresing the number of returns/samples for calcualting the SR^ makes the stdDev of this estimation drop drastically."
   ]
  },
  {
   "cell_type": "code",
   "execution_count": 23,
   "metadata": {},
   "outputs": [],
   "source": [
    "OOS_SIZE = 10000000"
   ]
  },
  {
   "cell_type": "code",
   "execution_count": 24,
   "metadata": {},
   "outputs": [
    {
     "name": "stdout",
     "output_type": "stream",
     "text": [
      "mean    0.002028\n",
      "std     0.006033\n",
      "skew   -0.989043\n",
      "kurt    3.857675\n",
      "dtype: float64\n"
     ]
    }
   ],
   "source": [
    "oos_returns_st1 = dist_st1.rvs(size=OOS_SIZE)\n",
    "\n",
    "true_moments_st1 = moments(oos_returns_st1)\n",
    "print(true_moments_st1)"
   ]
  },
  {
   "cell_type": "code",
   "execution_count": 25,
   "metadata": {},
   "outputs": [
    {
     "name": "stdout",
     "output_type": "stream",
     "text": [
      "TRUE SR Annual. Strategy 1: 2.42\n"
     ]
    }
   ],
   "source": [
    "true_sr_ann_st1 = ann_estimated_sharpe_ratio(oos_returns_st1, periods=52)\n",
    "print('TRUE SR Annual. Strategy 1:', round(true_sr_ann_st1, 2))"
   ]
  },
  {
   "cell_type": "code",
   "execution_count": 26,
   "metadata": {},
   "outputs": [
    {
     "name": "stdout",
     "output_type": "stream",
     "text": [
      "mean    0.003224\n",
      "std     0.006033\n",
      "skew    0.000689\n",
      "kurt    2.998471\n",
      "dtype: float64\n"
     ]
    }
   ],
   "source": [
    "oos_returns_st2 = dist_st2.rvs(size=OOS_SIZE)\n",
    "\n",
    "true_moments_st2 = moments(oos_returns_st2)\n",
    "print(true_moments_st2)"
   ]
  },
  {
   "cell_type": "code",
   "execution_count": 27,
   "metadata": {},
   "outputs": [
    {
     "name": "stdout",
     "output_type": "stream",
     "text": [
      "TRUE SR Annual. Strategy 2: 3.85\n"
     ]
    }
   ],
   "source": [
    "true_sr_ann_st2 = ann_estimated_sharpe_ratio(oos_returns_st2, periods=52)\n",
    "print('TRUE SR Annual. Strategy 2:', round(true_sr_ann_st2, 2))"
   ]
  },
  {
   "cell_type": "markdown",
   "metadata": {},
   "source": [
    "## Conclusions\n",
    "#### We can see that in the long term the Strategy 2 is much better than the Strategy 1. Its TRUE SR is around 3.85 and the TRUE SR of Strategy 1 is around 2.42. \n",
    "#### This is due to the `EXTRA_EDGE` we added tothe returns distributions of the Strategy 2. \n",
    "#### So, despite of the lower SR^ in the small sample, we were able to choose the best Strategy using the Probabilistic Sharpe Ratio (PSR). \n",
    "In 5 years our money will have grown x3 times more (aprox.) than if we had invested in the Strategy 1!"
   ]
  },
  {
   "cell_type": "code",
   "execution_count": 33,
   "metadata": {},
   "outputs": [
    {
     "data": {
      "text/plain": [
       "<matplotlib.axes._subplots.AxesSubplot at 0x7f7227ccadd8>"
      ]
     },
     "execution_count": 33,
     "metadata": {},
     "output_type": "execute_result"
    },
    {
     "data": {
      "image/png": "[encoded data removed]",
      "text/plain": [
       "<Figure size 432x288 with 1 Axes>"
      ]
     },
     "metadata": {
      "needs_background": "light"
     },
     "output_type": "display_data"
    }
   ],
   "source": [
    "pd.DataFrame({'Strategy 1': pd.Series(oos_returns_st1).add(1).cumprod().sub(1).iloc[:52*5],\n",
    "              'Strategy 2': pd.Series(oos_returns_st2).add(1).cumprod().sub(1).iloc[:52*5]}).plot()"
   ]
  },
  {
   "cell_type": "markdown",
   "metadata": {},
   "source": [
    "NOTE: In this notebook we have checked the impact of the skewness in the SR^ but the kurtosis also have an impact on the SR^ and its estimated error. But there is no way for generating random returns with a predefined kurtosis.\n",
    "> Let me know in a issue if you now one way to generate random returns with a desired kurtosis, or with a skewness greater than [-0.99, 0.99]."
   ]
  },
  {
   "cell_type": "code",
   "execution_count": null,
   "metadata": {},
   "outputs": [],
   "source": []
  }
 ],
 "metadata": {
  "jupytext": {
   "formats": "notebooks//ipynb,src//py"
  },
  "kernelspec": {
   "display_name": "Python 3",
   "language": "python",
   "name": "python3"
  },
  "language_info": {
   "codemirror_mode": {
    "name": "ipython",
    "version": 3
   },
   "file_extension": ".py",
   "mimetype": "text/x-python",
   "name": "python",
   "nbconvert_exporter": "python",
   "pygments_lexer": "ipython3",
   "version": "3.6.9"
  }
 },
 "nbformat": 4,
 "nbformat_minor": 4
}
